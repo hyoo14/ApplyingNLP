{
 "cells": [
  {
   "cell_type": "code",
   "execution_count": 1,
   "metadata": {
    "collapsed": true
   },
   "outputs": [],
   "source": [
    "id2word = []\n",
    "final_embedding = []\n",
    "\n",
    "word2id = {}"
   ]
  },
  {
   "cell_type": "code",
   "execution_count": 2,
   "metadata": {
    "collapsed": true
   },
   "outputs": [],
   "source": [
    "#with open('w2v_namu_비교용.txt', 'r', encoding='UTF8') as f:\n",
    "with open('w2v_wiki_ko_try03.txt', 'r', encoding='UTF8') as f:\n",
    "    for i in range(50000):#(50000):\n",
    "        line = f.readline()\n",
    "        \n",
    "        if i == 0:\n",
    "            continue\n",
    "        \n",
    "        sp = line.split()\n",
    "        id2word.append(sp[0])\n",
    "        \n",
    "        word2id[sp[0]] = i\n",
    "        \n",
    "        del sp[0]\n",
    "        final_embedding.append(sp)\n",
    "        "
   ]
  },
  {
   "cell_type": "code",
   "execution_count": 3,
   "metadata": {},
   "outputs": [
    {
     "name": "stdout",
     "output_type": "stream",
     "text": [
      "1733\n"
     ]
    }
   ],
   "source": [
    "print(word2id['경쟁'])"
   ]
  },
  {
   "cell_type": "code",
   "execution_count": 4,
   "metadata": {},
   "outputs": [
    {
     "name": "stdout",
     "output_type": "stream",
     "text": [
      "['0.0470182', '0.134851', '0.00397953', '-0.00385398', '-0.0192603', '-0.120222', '-0.0738231', '-0.0583044', '0.0115407', '0.0491803', '-0.0057791', '0.118746', '-0.101463', '0.149977', '0.135263', '-0.137606', '0.0629685', '-0.0664522', '0.0473038', '0.122265', '0.068745', '-0.0168471', '-0.0285977', '-0.00328321', '0.0656152', '-0.0415513', '-0.0250848', '-0.0453439', '-0.0510449', '-0.0154007', '0.0694925', '-0.0344328', '0.14248', '0.109407', '0.0857421', '-0.121876', '-0.0311428', '0.10881', '-0.0688473', '0.131824', '0.0326251', '-0.0953493', '0.073452', '0.0198649', '0.0101841', '0.0212083', '-0.0211694', '-0.127076', '0.0365135', '-0.0481768', '0.0365652', '-0.0164122', '-0.0103127', '0.161647', '-0.0535412', '0.135902', '-0.0822939', '0.0217875', '-0.0414514', '0.0586765', '0.104201', '0.0691035', '0.0341302', '0.191092', '-0.226339', '0.00643735', '-0.0261646', '-0.245987', '0.0897311', '0.0249225', '-0.0515009', '0.0303856', '0.0571114', '0.16006', '-0.051114', '0.0079968', '-0.0280136', '-0.0164446', '0.206971', '-0.0622039', '0.0687471', '0.0196514', '-0.0487297', '0.0910321', '0.018828', '-0.0029154', '0.19754', '-0.030217', '-0.0254179', '0.0338523', '-0.102711', '-0.0607026', '0.207396', '-0.0233699', '0.0248458', '0.0577629', '-0.0879608', '-0.0482213', '0.140936', '0.0939382', '-0.0176025', '-0.0522314', '0.0200053', '0.0197021', '-0.0327734', '0.181261', '0.0138422', '-0.074896', '0.0133874', '-0.126203', '0.0776865', '0.155605', '0.104397', '0.124594', '0.0212258', '-0.118072', '0.00948744', '0.00574635', '-0.120132', '0.124987', '0.131231', '0.0193797', '-0.0273996', '0.0153532', '-0.0307564', '0.0789819', '0.147189', '-0.0918302']\n"
     ]
    }
   ],
   "source": [
    "print(final_embedding[1])"
   ]
  },
  {
   "cell_type": "code",
   "execution_count": 5,
   "metadata": {},
   "outputs": [],
   "source": [
    "import numpy as np\n",
    "from numpy import dot\n",
    "from numpy.linalg import norm\n",
    "from numpy import array\n",
    "final_embeddings = np.array( final_embedding, dtype = float )"
   ]
  },
  {
   "cell_type": "code",
   "execution_count": 6,
   "metadata": {
    "collapsed": true
   },
   "outputs": [],
   "source": [
    "def cos_sim(word_a, word_b):\n",
    "    \n",
    "    if word_a not in id2word:\n",
    "        return 0\n",
    "    \n",
    "    if word_b not in id2word:\n",
    "        return 0\n",
    "    \n",
    "    a = final_embeddings[word2id[word_a]]\n",
    "    b = final_embeddings[word2id[word_b]]\n",
    "    \n",
    "    return ( dot(a,b) ) / (norm(a) * norm(b) ) "
   ]
  },
  {
   "cell_type": "code",
   "execution_count": 7,
   "metadata": {},
   "outputs": [
    {
     "name": "stdout",
     "output_type": "stream",
     "text": [
      "0.36881847980659527\n"
     ]
    }
   ],
   "source": [
    "print(cos_sim('컴퓨터', '인공지능'))"
   ]
  },
  {
   "cell_type": "code",
   "execution_count": 8,
   "metadata": {},
   "outputs": [
    {
     "name": "stdout",
     "output_type": "stream",
     "text": [
      "0.04581795737316154\n"
     ]
    }
   ],
   "source": [
    "print(cos_sim('사람', '인간'))"
   ]
  },
  {
   "cell_type": "code",
   "execution_count": null,
   "metadata": {
    "collapsed": true
   },
   "outputs": [],
   "source": []
  }
 ],
 "metadata": {
  "kernelspec": {
   "display_name": "Python 3",
   "language": "python",
   "name": "python3"
  },
  "language_info": {
   "codemirror_mode": {
    "name": "ipython",
    "version": 3
   },
   "file_extension": ".py",
   "mimetype": "text/x-python",
   "name": "python",
   "nbconvert_exporter": "python",
   "pygments_lexer": "ipython3",
   "version": "3.6.1"
  }
 },
 "nbformat": 4,
 "nbformat_minor": 2
}
